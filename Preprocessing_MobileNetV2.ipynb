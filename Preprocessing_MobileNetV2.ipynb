{
 "cells": [
  {
   "cell_type": "code",
   "execution_count": null,
   "id": "8294f978-eb69-4b8a-b708-04cf1c5b991d",
   "metadata": {},
   "outputs": [],
   "source": [
    "# ✅ STEP 3: Load DICOM images\n",
    "def load_dicom_images_from_folder(folder_path, label):\n",
    "    data = []\n",
    "    labels = []\n",
    "    for file in sorted(os.listdir(folder_path)):\n",
    "        file_path = os.path.join(folder_path, file)\n",
    "        if os.path.isfile(file_path) and file.endswith(\".dcm\"):\n",
    "            try:\n",
    "                dicom = pydicom.dcmread(file_path)\n",
    "                img = dicom.pixel_array.astype(np.int16)\n",
    "                intercept = getattr(dicom, 'RescaleIntercept', 0)\n",
    "                slope = getattr(dicom, 'RescaleSlope', 1)\n",
    "                img = img * slope + intercept\n",
    "                img = np.clip(img, -100, 200)\n",
    "                img = ((img + 100) / 300) * 255\n",
    "                img = np.uint8(img)\n",
    "                img_resized = cv2.resize(img, (224, 224))\n",
    "                img_rgb = cv2.cvtColor(img_resized, cv2.COLOR_GRAY2RGB)\n",
    "                data.append(img_rgb)\n",
    "                labels.append(label)\n",
    "            except Exception as e:\n",
    "                print(f\"Error reading {file_path}: {e}\")\n",
    "    return data, labels\n"
   ]
  }
 ],
 "metadata": {
  "kernelspec": {
   "display_name": "Python 3 (ipykernel)",
   "language": "python",
   "name": "python3"
  },
  "language_info": {
   "codemirror_mode": {
    "name": "ipython",
    "version": 3
   },
   "file_extension": ".py",
   "mimetype": "text/x-python",
   "name": "python",
   "nbconvert_exporter": "python",
   "pygments_lexer": "ipython3",
   "version": "3.12.4"
  }
 },
 "nbformat": 4,
 "nbformat_minor": 5
}
