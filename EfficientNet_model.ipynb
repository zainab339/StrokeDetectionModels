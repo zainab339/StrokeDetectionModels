{
 "cells": [
  {
   "cell_type": "code",
   "execution_count": 1,
   "id": "89e82599-b475-437c-acea-c271bfb03380",
   "metadata": {},
   "outputs": [
    {
     "name": "stdout",
     "output_type": "stream",
     "text": [
      "Requirement already satisfied: torch in c:\\users\\zahja\\anaconda3\\lib\\site-packages (2.6.0)\n",
      "Requirement already satisfied: torchvision in c:\\users\\zahja\\anaconda3\\lib\\site-packages (0.21.0)\n",
      "Requirement already satisfied: efficientnet_pytorch in c:\\users\\zahja\\anaconda3\\lib\\site-packages (0.7.1)\n",
      "Requirement already satisfied: filelock in c:\\users\\zahja\\anaconda3\\lib\\site-packages (from torch) (3.13.1)\n",
      "Requirement already satisfied: typing-extensions>=4.10.0 in c:\\users\\zahja\\anaconda3\\lib\\site-packages (from torch) (4.11.0)\n",
      "Requirement already satisfied: networkx in c:\\users\\zahja\\anaconda3\\lib\\site-packages (from torch) (3.2.1)\n",
      "Requirement already satisfied: jinja2 in c:\\users\\zahja\\anaconda3\\lib\\site-packages (from torch) (3.1.4)\n",
      "Requirement already satisfied: fsspec in c:\\users\\zahja\\anaconda3\\lib\\site-packages (from torch) (2024.3.1)\n",
      "Requirement already satisfied: setuptools in c:\\users\\zahja\\anaconda3\\lib\\site-packages (from torch) (69.5.1)\n",
      "Requirement already satisfied: sympy==1.13.1 in c:\\users\\zahja\\anaconda3\\lib\\site-packages (from torch) (1.13.1)\n",
      "Requirement already satisfied: mpmath<1.4,>=1.1.0 in c:\\users\\zahja\\anaconda3\\lib\\site-packages (from sympy==1.13.1->torch) (1.3.0)\n",
      "Requirement already satisfied: numpy in c:\\users\\zahja\\anaconda3\\lib\\site-packages (from torchvision) (1.26.4)\n",
      "Requirement already satisfied: pillow!=8.3.*,>=5.3.0 in c:\\users\\zahja\\anaconda3\\lib\\site-packages (from torchvision) (10.3.0)\n",
      "Requirement already satisfied: MarkupSafe>=2.0 in c:\\users\\zahja\\anaconda3\\lib\\site-packages (from jinja2->torch) (2.1.3)\n",
      "Note: you may need to restart the kernel to use updated packages.\n"
     ]
    }
   ],
   "source": [
    "`m $apip install torch torchvision efficientnet_pytorch"
   ]
  },
  {
   "cell_type": "code",
   "execution_count": 7,
   "id": "b0b2d49e-d50e-4f6d-990b-80d4e443a79b",
   "metadata": {},
   "outputs": [
    {
     "name": "stdout",
     "output_type": "stream",
     "text": [
      "Total images: 15798\n",
      "Training images: 12638, Validation images: 1579, Testing images: 1581\n"
     ]
    },
    {
     "name": "stderr",
     "output_type": "stream",
     "text": [
      "C:\\Users\\zahja\\anaconda3\\Lib\\site-packages\\torch\\optim\\lr_scheduler.py:62: UserWarning: The verbose parameter is deprecated. Please use get_last_lr() to access the learning rate.\n",
      "  warnings.warn(\n"
     ]
    },
    {
     "name": "stdout",
     "output_type": "stream",
     "text": [
      "Loaded pretrained weights for efficientnet-b3\n"
     ]
    },
    {
     "name": "stderr",
     "output_type": "stream",
     "text": [
      "Epoch 1/10: 100%|\u001b[32m█████████████████████████████████████████\u001b[0m| 843/843 [1:09:05<00:00,  4.92s/it, acc=70.18%, loss=0.1823]\u001b[0m\n"
     ]
    },
    {
     "name": "stdout",
     "output_type": "stream",
     "text": [
      "Epoch [1/10] | Train Loss: 0.5543 | Train Acc: 70.18% | Val Loss: 0.3531 | Val Acc: 84.55%\n",
      "🔥 Best model saved!\n"
     ]
    },
    {
     "name": "stderr",
     "output_type": "stream",
     "text": [
      "Epoch 2/10: 100%|\u001b[32m█████████████████████████████████████████\u001b[0m| 843/843 [1:16:50<00:00,  5.47s/it, acc=86.39%, loss=0.9472]\u001b[0m\n"
     ]
    },
    {
     "name": "stdout",
     "output_type": "stream",
     "text": [
      "Epoch [2/10] | Train Loss: 0.3077 | Train Acc: 86.39% | Val Loss: 0.2391 | Val Acc: 89.87%\n",
      "🔥 Best model saved!\n"
     ]
    },
    {
     "name": "stderr",
     "output_type": "stream",
     "text": [
      "Epoch 3/10: 100%|\u001b[32m█████████████████████████████████████████\u001b[0m| 843/843 [1:36:33<00:00,  6.87s/it, acc=93.04%, loss=0.1914]\u001b[0m\n"
     ]
    },
    {
     "name": "stdout",
     "output_type": "stream",
     "text": [
      "Epoch [3/10] | Train Loss: 0.1761 | Train Acc: 93.04% | Val Loss: 0.1413 | Val Acc: 94.62%\n",
      "🔥 Best model saved!\n"
     ]
    },
    {
     "name": "stderr",
     "output_type": "stream",
     "text": [
      "Epoch 4/10: 100%|\u001b[32m█████████████████████████████████████████\u001b[0m| 843/843 [1:12:17<00:00,  5.15s/it, acc=95.62%, loss=0.1945]\u001b[0m\n"
     ]
    },
    {
     "name": "stdout",
     "output_type": "stream",
     "text": [
      "Epoch [4/10] | Train Loss: 0.1154 | Train Acc: 95.62% | Val Loss: 0.1203 | Val Acc: 95.25%\n",
      "🔥 Best model saved!\n"
     ]
    },
    {
     "name": "stderr",
     "output_type": "stream",
     "text": [
      "Epoch 5/10: 100%|\u001b[32m█████████████████████████████████████████\u001b[0m| 843/843 [1:12:20<00:00,  5.15s/it, acc=96.99%, loss=0.0573]\u001b[0m\n"
     ]
    },
    {
     "name": "stdout",
     "output_type": "stream",
     "text": [
      "Epoch [5/10] | Train Loss: 0.0796 | Train Acc: 96.99% | Val Loss: 0.1399 | Val Acc: 94.11%\n",
      "😴 No improvement for 1 epochs\n"
     ]
    },
    {
     "name": "stderr",
     "output_type": "stream",
     "text": [
      "Epoch 6/10: 100%|\u001b[32m█████████████████████████████████████████\u001b[0m| 843/843 [1:03:08<00:00,  4.49s/it, acc=97.63%, loss=0.0255]\u001b[0m\n"
     ]
    },
    {
     "name": "stdout",
     "output_type": "stream",
     "text": [
      "Epoch [6/10] | Train Loss: 0.0635 | Train Acc: 97.63% | Val Loss: 0.0953 | Val Acc: 96.52%\n",
      "🔥 Best model saved!\n"
     ]
    },
    {
     "name": "stderr",
     "output_type": "stream",
     "text": [
      "Epoch 7/10: 100%|\u001b[32m███████████████████████████████████████████\u001b[0m| 843/843 [59:52<00:00,  4.26s/it, acc=97.86%, loss=0.0130]\u001b[0m\n"
     ]
    },
    {
     "name": "stdout",
     "output_type": "stream",
     "text": [
      "Epoch [7/10] | Train Loss: 0.0615 | Train Acc: 97.86% | Val Loss: 0.1137 | Val Acc: 96.20%\n",
      "😴 No improvement for 1 epochs\n"
     ]
    },
    {
     "name": "stderr",
     "output_type": "stream",
     "text": [
      "Epoch 8/10: 100%|\u001b[32m███████████████████████████████████████████\u001b[0m| 843/843 [57:03<00:00,  4.06s/it, acc=98.33%, loss=0.9035]\u001b[0m\n"
     ]
    },
    {
     "name": "stdout",
     "output_type": "stream",
     "text": [
      "Epoch [8/10] | Train Loss: 0.0483 | Train Acc: 98.33% | Val Loss: 0.1539 | Val Acc: 96.26%\n",
      "😴 No improvement for 2 epochs\n"
     ]
    },
    {
     "name": "stderr",
     "output_type": "stream",
     "text": [
      "Epoch 9/10: 100%|\u001b[32m███████████████████████████████████████████\u001b[0m| 843/843 [57:02<00:00,  4.06s/it, acc=98.63%, loss=0.0659]\u001b[0m\n"
     ]
    },
    {
     "name": "stdout",
     "output_type": "stream",
     "text": [
      "Epoch [9/10] | Train Loss: 0.0385 | Train Acc: 98.63% | Val Loss: 0.0770 | Val Acc: 97.34%\n",
      "🔥 Best model saved!\n"
     ]
    },
    {
     "name": "stderr",
     "output_type": "stream",
     "text": [
      "Epoch 10/10: 100%|\u001b[32m██████████████████████████████████████████\u001b[0m| 843/843 [56:54<00:00,  4.05s/it, acc=98.88%, loss=0.2273]\u001b[0m\n"
     ]
    },
    {
     "name": "stdout",
     "output_type": "stream",
     "text": [
      "Epoch [10/10] | Train Loss: 0.0348 | Train Acc: 98.88% | Val Loss: 0.0718 | Val Acc: 97.85%\n",
      "🔥 Best model saved!\n",
      "🎯 Training Complete!\n",
      "💾 Final model saved as final_efficientnet_stroke.pth\n"
     ]
    },
    {
     "data": {
      "image/png": "[encoded data removed]",
      "text/plain": [
       "<Figure size 800x600 with 2 Axes>"
      ]
     },
     "metadata": {},
     "output_type": "display_data"
    },
    {
     "name": "stdout",
     "output_type": "stream",
     "text": [
      "Classification Report:\n",
      "              precision    recall  f1-score   support\n",
      "\n",
      "      Normal       0.98      0.98      0.98       647\n",
      "      Stroke       0.98      0.98      0.98       934\n",
      "\n",
      "    accuracy                           0.98      1581\n",
      "   macro avg       0.98      0.98      0.98      1581\n",
      "weighted avg       0.98      0.98      0.98      1581\n",
      "\n",
      "Overall Metrics:\n",
      "Accuracy: 0.9817\n",
      "Precision: 0.9817\n",
      "Recall: 0.9817\n",
      "F1-Score: 0.9817\n"
     ]
    }
   ],
   "source": [
    "# ============================\n",
    "# 0. Import Required Libraries\n",
    "# ============================\n",
    "import torch\n",
    "import torch.nn as nn\n",
    "import torch.optim as optim\n",
    "import torchvision.transforms as transforms\n",
    "import torchvision.datasets as datasets\n",
    "from torch.utils.data import DataLoader, random_split\n",
    "from efficientnet_pytorch import EfficientNet\n",
    "from tqdm import tqdm  # For real-time tracking\n",
    "import os\n",
    "\n",
    "# For evaluation metrics\n",
    "from sklearn.metrics import confusion_matrix, classification_report, accuracy_score, precision_score, recall_score, f1_score\n",
    "import seaborn as sns\n",
    "import matplotlib.pyplot as plt\n",
    "import numpy as np\n",
    "\n",
    "# ------------------------ Step 1: Data Preprocessing ------------------------ #\n",
    "\n",
    "# Define image transformations\n",
    "transform = transforms.Compose([\n",
    "    transforms.Resize((224, 224)),  # Resize to EfficientNet input size\n",
    "    transforms.ToTensor(),  # Convert image to tensor\n",
    "    transforms.Normalize(mean=[0.5], std=[0.5])  # Normalize grayscale CT/MRI images\n",
    "])\n",
    "\n",
    "# Define dataset path\n",
    "data_dir = \"dataset\"  # Root directory with 'Stroke' and 'No_Stroke' subfolders\n",
    "dataset = datasets.ImageFolder(root=data_dir, transform=transform)\n",
    "\n",
    "# ------------------------ Step 2: Split Dataset (80% Train, 10% Val, 10% Test) ------------------------ #\n",
    "\n",
    "total_size = len(dataset)\n",
    "train_size = int(0.8 * total_size)  # 80% training\n",
    "val_size = int(0.1 * total_size)    # 10% validation\n",
    "test_size = total_size - train_size - val_size  # 10% test\n",
    "\n",
    "# Randomly split dataset\n",
    "train_dataset, val_dataset, test_dataset = random_split(dataset, [train_size, val_size, test_size])\n",
    "\n",
    "# ------------------------ Step 3: Create DataLoaders ------------------------ #\n",
    "\n",
    "batch_size = 15  # Adjust based on GPU capacity\n",
    "\n",
    "train_loader = DataLoader(train_dataset, batch_size=batch_size, shuffle=True)\n",
    "val_loader = DataLoader(val_dataset, batch_size=batch_size, shuffle=False)\n",
    "test_loader = DataLoader(test_dataset, batch_size=batch_size, shuffle=False)\n",
    "\n",
    "print(f\"Total images: {total_size}\")\n",
    "print(f\"Training images: {train_size}, Validation images: {val_size}, Testing images: {test_size}\")\n",
    "\n",
    "# ------------------------ Step 4: Load EfficientNet Model ------------------------ #\n",
    "\n",
    "# Load pre-trained EfficientNet\n",
    "model = EfficientNet.from_pretrained(\"efficientnet-b3\")\n",
    "\n",
    "# Modify the classifier for 2 classes (Stroke vs No Stroke)\n",
    "num_ftrs = model._fc.in_features\n",
    "model._fc = nn.Linear(num_ftrs, 2)  # Output 2 classes\n",
    "\n",
    "# Move model to GPU if available\n",
    "device = torch.device(\"cuda\" if torch.cuda.is_available() else \"cpu\")\n",
    "model = model.to(device)\n",
    "\n",
    "# ------------------------ Step 5: Define Training Parameters ------------------------ #\n",
    "\n",
    "criterion = nn.CrossEntropyLoss()  # Loss function for classification\n",
    "optimizer = optim.Adam(model.parameters(), lr=0.0001)  # Adam optimizer\n",
    "num_epochs = 10  # Adjust based on dataset size\n",
    "\n",
    "# ------------------------ Step 6: Training Function with Early Stopping & Scheduler ------------------------ #\n",
    "\n",
    "def train(model, train_loader, val_loader, criterion, optimizer, num_epochs, patience=5):\n",
    "    best_val_acc = 0.0\n",
    "    epochs_without_improvement = 0\n",
    "\n",
    "    # Learning rate scheduler: Reduce LR if val_loss doesn't improve\n",
    "    scheduler = torch.optim.lr_scheduler.ReduceLROnPlateau(optimizer, mode='min', patience=3, factor=0.5, verbose=True)\n",
    "\n",
    "    for epoch in range(num_epochs):\n",
    "        model.train()\n",
    "        running_loss, correct, total = 0.0, 0, 0\n",
    "        train_bar = tqdm(train_loader, desc=f\"Epoch {epoch+1}/{num_epochs}\", colour=\"green\")\n",
    "\n",
    "        for images, labels in train_bar:\n",
    "            images, labels = images.to(device), labels.to(device)\n",
    "            optimizer.zero_grad()\n",
    "            outputs = model(images)\n",
    "            loss = criterion(outputs, labels)\n",
    "            loss.backward()\n",
    "            optimizer.step()\n",
    "\n",
    "            running_loss += loss.item()\n",
    "            _, predicted = torch.max(outputs, 1)\n",
    "            total += labels.size(0)\n",
    "            correct += (predicted == labels).sum().item()\n",
    "\n",
    "            train_bar.set_postfix(loss=f\"{loss.item():.4f}\", acc=f\"{(100 * correct / total):.2f}%\")\n",
    "\n",
    "        train_acc = 100 * correct / total\n",
    "        val_loss, val_acc = evaluate(model, val_loader, criterion)\n",
    "\n",
    "        print(f\"Epoch [{epoch+1}/{num_epochs}] | Train Loss: {running_loss/len(train_loader):.4f} | Train Acc: {train_acc:.2f}% | Val Loss: {val_loss:.4f} | Val Acc: {val_acc:.2f}%\")\n",
    "\n",
    "        scheduler.step(val_loss)  # Adjust LR if val_loss plateaus\n",
    "\n",
    "        # Save best model if improved\n",
    "        if val_acc > best_val_acc:\n",
    "            best_val_acc = val_acc\n",
    "            epochs_without_improvement = 0\n",
    "            torch.save(model.state_dict(), \"best_efficientnet_stroke.pth\")\n",
    "            print(\"🔥 Best model saved!\")\n",
    "        else:\n",
    "            epochs_without_improvement += 1\n",
    "            print(f\"😴 No improvement for {epochs_without_improvement} epochs\")\n",
    "\n",
    "        # Early stopping condition\n",
    "        if epochs_without_improvement >= patience:\n",
    "            print(\"⏹️ Early stopping triggered.\")\n",
    "            break\n",
    "\n",
    "    print(\"🎯 Training Complete!\")\n",
    "    torch.save(model.state_dict(), \"final_efficientnet_stroke.pth\")\n",
    "    print(\"💾 Final model saved as final_efficientnet_stroke.pth\")\n",
    "\n",
    "\n",
    "# ------------------------ Step 7: Evaluation Function ------------------------ #\n",
    "\n",
    "def evaluate(model, val_loader, criterion):\n",
    "    model.eval()  # Set to evaluation mode\n",
    "    running_loss, correct, total = 0.0, 0, 0\n",
    "\n",
    "    with torch.no_grad():\n",
    "        for images, labels in val_loader:\n",
    "            images, labels = images.to(device), labels.to(device)\n",
    "            outputs = model(images)\n",
    "            loss = criterion(outputs, labels)\n",
    "            running_loss += loss.item()\n",
    "            _, predicted = torch.max(outputs, 1)\n",
    "            total += labels.size(0)\n",
    "            correct += (predicted == labels).sum().item()\n",
    "\n",
    "    val_loss = running_loss / len(val_loader)\n",
    "    val_acc = 100 * correct / total\n",
    "    return val_loss, val_acc\n",
    "\n",
    "# ------------------------ Step 8: Train the Model ------------------------ #\n",
    "\n",
    "train(model, train_loader, val_loader, criterion, optimizer, num_epochs)\n",
    "\n",
    "# ------------------------ Step 9: Test the Model and Print Evaluation Metrics ------------------------ #\n",
    "\n",
    "def evaluate_metrics(model, test_loader):\n",
    "    model.load_state_dict(torch.load(\"final_efficientnet_stroke.pth\"))  # Load final model\n",
    "    model.eval()\n",
    "    y_true = []\n",
    "    y_pred = []\n",
    "\n",
    "    with torch.no_grad():\n",
    "        for images, labels in test_loader:\n",
    "            images, labels = images.to(device), labels.to(device)\n",
    "            outputs = model(images)\n",
    "            _, predicted = torch.max(outputs, 1)\n",
    "            y_true.extend(labels.cpu().numpy())\n",
    "            y_pred.extend(predicted.cpu().numpy())\n",
    "\n",
    "    # Confusion Matrix\n",
    "    conf_matrix = confusion_matrix(y_true, y_pred)\n",
    "    class_names = ['Normal', 'Stroke']\n",
    "    plt.figure(figsize=(8, 6))\n",
    "    sns.heatmap(conf_matrix, annot=True, fmt='d', cmap='Blues', xticklabels=class_names, yticklabels=class_names)\n",
    "    plt.xlabel('Predicted')\n",
    "    plt.ylabel('Actual')\n",
    "    plt.title('Confusion Matrix')\n",
    "    plt.show()\n",
    "\n",
    "    # Classification Report\n",
    "    print(\"Classification Report:\")\n",
    "    print(classification_report(y_true, y_pred, target_names=class_names))\n",
    "\n",
    "    # Overall Metrics\n",
    "    print(\"Overall Metrics:\")\n",
    "    print(f\"Accuracy: {accuracy_score(y_true, y_pred):.4f}\")\n",
    "    print(f\"Precision: {precision_score(y_true, y_pred, average='weighted'):.4f}\")\n",
    "    print(f\"Recall: {recall_score(y_true, y_pred, average='weighted'):.4f}\")\n",
    "    print(f\"F1-Score: {f1_score(y_true, y_pred, average='weighted'):.4f}\")\n",
    "\n",
    "# Run evaluation and print all metrics\n",
    "evaluate_metrics(model, test_loader)\n"
   ]
  },
  {
   "cell_type": "code",
   "execution_count": null,
   "id": "64c54423-bb46-487c-8f02-8e3434edf171",
   "metadata": {},
   "outputs": [],
   "source": []
  }
 ],
 "metadata": {
  "kernelspec": {
   "display_name": "Python 3 (ipykernel)",
   "language": "python",
   "name": "python3"
  },
  "language_info": {
   "codemirror_mode": {
    "name": "ipython",
    "version": 3
   },
   "file_extension": ".py",
   "mimetype": "text/x-python",
   "name": "python",
   "nbconvert_exporter": "python",
   "pygments_lexer": "ipython3",
   "version": "3.12.4"
  }
 },
 "nbformat": 4,
 "nbformat_minor": 5
}
